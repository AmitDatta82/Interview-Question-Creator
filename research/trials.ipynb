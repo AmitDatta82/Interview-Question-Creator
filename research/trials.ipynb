{
 "cells": [
  {
   "cell_type": "code",
   "execution_count": 1,
   "metadata": {},
   "outputs": [],
   "source": [
    "import os\n",
    "from dotenv import load_dotenv"
   ]
  },
  {
   "cell_type": "code",
   "execution_count": 2,
   "metadata": {},
   "outputs": [],
   "source": [
    "load_dotenv()\n",
    "OPENAI_API_KEY = os.getenv(\"OPENAI_API_KEY\")"
   ]
  },
  {
   "cell_type": "code",
   "execution_count": 3,
   "metadata": {},
   "outputs": [],
   "source": [
    "os.environ[\"OPENAI_API_KEY\"] = OPENAI_API_KEY"
   ]
  },
  {
   "cell_type": "code",
   "execution_count": 6,
   "metadata": {},
   "outputs": [
    {
     "data": {
      "text/plain": [
       "'d:\\\\GenAIProj\\\\MyProjs\\\\Interview-Question-Creator'"
      ]
     },
     "execution_count": 6,
     "metadata": {},
     "output_type": "execute_result"
    }
   ],
   "source": [
    "#%cd ..\n",
    "%pwd"
   ]
  },
  {
   "cell_type": "code",
   "execution_count": 12,
   "metadata": {},
   "outputs": [],
   "source": [
    "from langchain.document_loaders import PyPDFLoader # type: ignore\n",
    "\n",
    "file_path=\"data/Java_Cheat_Sheet.pdf\"\n",
    "loader = PyPDFLoader(file_path)\n",
    "data = loader.load()"
   ]
  },
  {
   "cell_type": "code",
   "execution_count": 13,
   "metadata": {},
   "outputs": [
    {
     "data": {
      "text/plain": [
       "45"
      ]
     },
     "execution_count": 13,
     "metadata": {},
     "output_type": "execute_result"
    }
   ],
   "source": [
    "len(data)"
   ]
  },
  {
   "cell_type": "code",
   "execution_count": 18,
   "metadata": {},
   "outputs": [],
   "source": [
    "quest_gen = \"\"\n",
    "for page in data:\n",
    "    quest_gen += page.page_content  "
   ]
  },
  {
   "cell_type": "code",
   "execution_count": 26,
   "metadata": {},
   "outputs": [],
   "source": [
    "from langchain.text_splitter import TokenTextSplitter\n",
    "\"\"\" Keep the chunk size greater than 1. Hence, Chunk size should be smaller.\"\"\"\n",
    "que_gen_splitter = TokenTextSplitter(model_name= \"gpt-3.5-turbo\", chunk_size=1000, chunk_overlap=200)\n",
    "chunk_ques_gen = que_gen_splitter.split_text(quest_gen)"
   ]
  },
  {
   "cell_type": "code",
   "execution_count": 31,
   "metadata": {},
   "outputs": [],
   "source": [
    "\"\"\"Covert the string to Document for format to be passed to LLM.\n",
    "Embedding Model doesn't support String.\"\"\"\n",
    "\n",
    "#len(chunk_ques_gen) -- list\n",
    "#type(chunk_ques_gen) -- Str\n",
    "\n",
    "from langchain.docstore.document import Document\n",
    "document_ques_gen =  [Document(page_content = ch) for ch in chunk_ques_gen]"
   ]
  },
  {
   "cell_type": "code",
   "execution_count": 34,
   "metadata": {},
   "outputs": [
    {
     "name": "stderr",
     "output_type": "stream",
     "text": [
      "d:\\GenAIProj\\MyProjs\\Interview-Question-Creator\\.venv\\lib\\site-packages\\langchain_core\\_api\\deprecation.py:119: LangChainDeprecationWarning: The class `ChatOpenAI` was deprecated in LangChain 0.0.10 and will be removed in 0.3.0. An updated version of the class exists in the langchain-openai package and should be used instead. To use it run `pip install -U langchain-openai` and import as `from langchain_openai import ChatOpenAI`.\n",
      "  warn_deprecated(\n"
     ]
    }
   ],
   "source": [
    "\"\"\" Initialize the LLM. Lower temperature - More authentic and less creative. Higher temperature - More creative\"\"\"\n",
    "\n",
    "\"\"\"The class `ChatOpenAI` was deprecated in LangChain 0.0.10 and will be removed in 0.3.0. \n",
    "An updated version of the class exists in the langchain-openai package and should be used instead\"\"\"\n",
    "#from langchain.chat_models import ChatOpenAI - Deprecated Now\n",
    "from langchain_openai import ChatOpenAI\n",
    "\n",
    "llm_ques_gen_ppline = ChatOpenAI(model=\"gpt-3.5-turbo\", temperature=0.3)"
   ]
  }
 ],
 "metadata": {
  "kernelspec": {
   "display_name": ".venv",
   "language": "python",
   "name": "python3"
  },
  "language_info": {
   "codemirror_mode": {
    "name": "ipython",
    "version": 3
   },
   "file_extension": ".py",
   "mimetype": "text/x-python",
   "name": "python",
   "nbconvert_exporter": "python",
   "pygments_lexer": "ipython3",
   "version": "3.10.11"
  }
 },
 "nbformat": 4,
 "nbformat_minor": 2
}
