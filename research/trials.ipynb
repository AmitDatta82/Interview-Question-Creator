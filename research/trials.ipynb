{
 "cells": [
  {
   "cell_type": "code",
   "execution_count": 3,
   "metadata": {},
   "outputs": [],
   "source": [
    "import os\n",
    "from dotenv import load_dotenv"
   ]
  },
  {
   "cell_type": "code",
   "execution_count": 4,
   "metadata": {},
   "outputs": [],
   "source": [
    "load_dotenv()\n",
    "OPENAI_API_KEY = os.getenv(\"OPENAI_API_KEY\")"
   ]
  },
  {
   "cell_type": "code",
   "execution_count": 5,
   "metadata": {},
   "outputs": [],
   "source": [
    "os.environ[\"OPENAI_API_KEY\"] = OPENAI_API_KEY"
   ]
  },
  {
   "cell_type": "code",
   "execution_count": 8,
   "metadata": {},
   "outputs": [
    {
     "data": {
      "text/plain": [
       "'d:\\\\GenAIProj\\\\MyProjs\\\\Interview-Question-Creator'"
      ]
     },
     "execution_count": 8,
     "metadata": {},
     "output_type": "execute_result"
    }
   ],
   "source": [
    "#%cd ..\n",
    "%pwd"
   ]
  },
  {
   "cell_type": "code",
   "execution_count": 9,
   "metadata": {},
   "outputs": [],
   "source": [
    "from langchain.document_loaders import PyPDFLoader # type: ignore\n",
    "\n",
    "file_path=\"data/Java_Cheat_Sheet.pdf\"\n",
    "loader = PyPDFLoader(file_path)\n",
    "data = loader.load()"
   ]
  },
  {
   "cell_type": "code",
   "execution_count": 10,
   "metadata": {},
   "outputs": [
    {
     "data": {
      "text/plain": [
       "45"
      ]
     },
     "execution_count": 10,
     "metadata": {},
     "output_type": "execute_result"
    }
   ],
   "source": [
    "len(data)"
   ]
  },
  {
   "cell_type": "code",
   "execution_count": 12,
   "metadata": {},
   "outputs": [],
   "source": [
    "quest_gen = \"\"\n",
    "for page in data:\n",
    "    quest_gen += page.page_content  "
   ]
  },
  {
   "cell_type": "code",
   "execution_count": 13,
   "metadata": {},
   "outputs": [],
   "source": [
    "from langchain.text_splitter import TokenTextSplitter\n",
    "\"\"\" Keep the chunk size greater than 1. Hence, Chunk size should be smaller.\"\"\"\n",
    "que_gen_splitter = TokenTextSplitter(model_name= \"gpt-3.5-turbo\", chunk_size=5000, chunk_overlap=200)\n",
    "chunk_ques_gen = que_gen_splitter.split_text(quest_gen)"
   ]
  },
  {
   "cell_type": "code",
   "execution_count": 14,
   "metadata": {},
   "outputs": [],
   "source": [
    "\"\"\"Covert the string to Document for format to be passed to LLM.\n",
    "Embedding Model doesn't support String.\"\"\"\n",
    "\n",
    "#len(chunk_ques_gen) -- list\n",
    "#type(chunk_ques_gen) -- Str\n",
    "\n",
    "from langchain.docstore.document import Document\n",
    "document_ques_gen =  [Document(page_content = t) for t in chunk_ques_gen]"
   ]
  },
  {
   "cell_type": "code",
   "execution_count": 15,
   "metadata": {},
   "outputs": [
    {
     "data": {
      "text/plain": [
       "[Document(page_content='1\\n \\nCORE JAVA CHEATSHEET\\n \\n \\n \\nObject Oriented Programming Language:\\n\\u200b\\n based on the concepts of “objects”.\\n \\nOpen Source: \\n\\u200b\\nReadily available for development.\\n \\n \\nPlatform-neutral: \\n\\u200b\\nJava code is independent of any particular hardware or software. This is\\n \\nbecause Java code is compiled by the compiler and converted into byte code. Byte code is\\n \\nplatform-independent and can run on multiple systems. The only requirement is Java needs a\\n \\nruntime environment i.e, JRE, which is a set of tools used for developing Java applications.\\n \\n \\nMemory Management: \\n\\u200b\\nGarbage collected language, i.e. deallocation of memory.\\n \\nException Handling: \\n\\u200b\\nCatches a series of errors or abnormality, thus eliminating any risk of\\n \\ncrashing the system.\\n \\nTHE JAVA BUZZWORDS\\n \\nJava was modeled in its final form keeping in consideration with the primary objective of having\\n \\nthe following features:\\n \\n \\n \\nSimple, Small and Familiar\\n \\nObject-Oriented\\n \\n \\nPortable and Platform Independent\\n \\nCompiled and Interpreted\\n \\n \\nScalability and Performance\\n \\nRobust and Secure\\n \\nArchitectural-neutral\\n \\n \\nHigh Performance\\n \\n \\nMulti-Threaded\\n \\nDistributed\\n \\nDynamic and Extensible\\n \\n 2\\n \\nDATA TYPES IN JAVA\\n \\nPrimitive Data Types\\n \\nData Type\\n \\nDefault Value\\n \\nSize (in bytes)\\n \\n1 byte = 8 bits\\n \\nboolean\\n \\nFALSE\\n \\n1 bit\\n \\nchar\\n \\n “ “ (space)\\n \\n2 byte\\n \\n \\nbyte\\n \\n0\\n \\n1 byte\\n \\nshort\\n \\n0\\n \\n2 byte\\n \\n \\nint\\n \\n0\\n \\n4 byte\\n \\nlong\\n \\n0\\n \\n8 byte\\n \\nfloat\\n \\n0.0f\\n \\n4 byte\\n \\ndouble\\n \\n0.0d\\n \\n8 byte\\n \\n \\nNon-Primitive Data Types\\n \\nData Type\\n \\nString\\n \\nArray\\n \\nClass\\n \\nInterface\\n \\n \\n \\n\\u200b\\nTYPECASTING\\n \\n \\nIt is a method of converting a variable of one data type to another data type so that functions\\n \\ncan process these variables correctly.\\n \\nJava defines two types of typecasting:\\n \\n●\\n Implicit Type Casting (Widening)\\n 3\\n \\nStoring a variable of a smaller data type to a larger data type.\\n \\n \\n●\\n Explicit Typecasting (Narrowing)\\n \\nStoring variable of a larger data type to a smaller data type.\\n \\n \\nOPERATORS IN JAVA\\n \\nJava supports a rich set of operators that can be classified into categories as below :\\n \\n \\n \\nOperator Category\\n \\nOperators\\n \\nArithmetic operators\\n \\n+,-,/,*,%\\n \\nRelational operators\\n \\n<, >, <=, >=,==, !=\\n \\nLogical operators\\n \\n&& , ||\\n \\n \\nAssignment operator\\n \\n =, +=, −=, ×=, ÷=, %=, &=, ^=, |=, <<=, >>=, >>>=\\n \\nIncrement and Decrement  operator\\n \\n++ , - -\\n \\nConditional operators\\n \\n?:\\n \\nBitwise operators\\n \\n^, &, |\\n \\nSpecial operators\\n \\n. (dot operator to access methods of class)\\n \\n \\n \\nJAVA IDE and EXECUTING CODE\\n \\nAmongst many IDEs the most recommended ones are :\\n \\n●\\nEclipse\\n \\n \\n●\\nNetBeans\\n \\n \\n \\nJava code can also be written in any text editor and compiled on the terminal with following\\n \\ncommands :\\n \\n \\n \\n$ java [file_name].java\\n \\n \\n$ java [file_name]\\n \\n \\nNote\\n\\u200b\\n:  File name should be the same as the class name containing the main() method, with a\\n \\n.java extension.\\n \\nVARIABLES IN JAVA\\n \\nVariables are the name of the memory location. It is a container that holds the value while the\\n \\njava program is executed. Variables are of three types in Java :\\n \\n 4\\n \\nLocal Variable\\n \\nGlobal or Instance Variable\\n \\nStatic Variable\\n \\nDeclared and initialized inside\\n \\nthe body of the method, block or\\n \\nconstructor.\\n \\nDeclared inside the class but\\n \\noutside of the method, block or\\n \\nconstructor. If not initialized, the\\n \\ndefault value is 0.\\n \\nDeclared using a “static”\\n \\nkeyword. It cannot be local.\\n \\n \\n \\n \\nIt has an access only within the\\n \\nmethod in which it is declared\\n \\nand is destroyed later from the\\n \\nblock or when the function call is\\n \\nreturned.\\n \\nVariables are created when an\\n \\ninstance of the class is created\\n \\nand destroyed when it is\\n \\ndestroyed.\\n \\nVariables created creates a\\n \\nsingle copy in the memory which\\n \\nis shared among all objects at a\\n \\nclass level.\\n \\n \\nclass TestVariables\\n \\n{\\n \\nint data = 20;\\n// instance variable\\n \\nstatic int number = 10;\\n//static variable\\n \\n \\nvoid someMethod()\\n \\n{\\n \\nint num = 30;\\n//local variable\\n \\n}\\n \\n}\\n \\n \\n \\nRESERVED WORDS\\n \\n \\nAlso known as keywords, are particular words which are predefined in Java and cannot be used\\n \\nas variable or object name. Some of the important keywords are :\\n \\n \\n \\n \\n \\n 5\\n \\n \\nKeywords\\n \\nUsage\\n \\nabstract\\n \\nused to declare an abstract class.\\n \\ncatch\\n \\nused to catch exceptions generated by try statements.\\n \\nclass\\n \\nused to declare a class.\\n \\nenum\\n \\ndefines a set of constants\\n \\nextends\\n \\nindicates that class is inherited\\n \\n \\nfinal\\n \\nindicates the value cannot be changed\\n \\nfinally\\n \\n \\nused to execute code after the try-catch structure.\\n \\n \\nimplements\\n \\nused to implement an interface.\\n \\nnew\\n \\nused to create new objects.\\n \\nstatic\\n \\nused to indicate that a variable or a method is a class method.\\n \\nsuper\\n \\nused to refer to the parent class.\\n \\nthis\\n \\nused to refer to the current object in a method or constructor.\\n \\nthrow\\n \\nused to explicitly throw an exception.\\n \\nthrows\\n \\nused to declare an exception.\\n \\ntry\\n \\nblock of code to handle exception\\n \\n \\nMETHODS IN JAVA\\n \\nThe general form of method :\\n \\n \\n \\ntype name (parameter list)\\n \\n{\\n \\n//body of the method\\n \\n \\n//return value              (only if type is not void)\\n \\n}\\n \\n \\nWhere\\n \\ntype\\n \\n          - return type of the method\\n \\n \\nname\\n          - name of the method\\n \\nparameter list            -  sequence of type and variables separated by a comma\\n \\nreturn\\n         - statement to return value to calling routine\\n \\n \\n \\n 6\\n \\nCONDITIONAL STATEMENTS IN JAVA\\n \\n1.\\nif-else\\n \\n \\n \\nTests condition, if condition true if block is executed else the else block is executed.\\n \\n \\nclass TestIfElse\\n \\n{\\n \\npublic static void main(String args[])\\n \\n \\n {\\n \\nint percent = 75;\\n \\n \\nif(percent >= 75)\\n \\n{\\n \\nSystem.out.println(\"Passed\");\\n \\n}\\n \\nelse\\n \\n{\\n \\nSystem.out.println(\"Please attempt again!\");\\n \\n}\\n \\n }\\n \\n \\n}\\n \\n \\n \\n \\n \\n2. Switch\\n \\n \\n \\nTest the condition, if a particular case is true the control is passed to that block and executed.\\n \\nThe rest of the cases are not considered further and the program breaks out of the loop.\\n \\n \\n \\nclass TestSwitch\\n \\n{\\n \\npublic static void main(String args[])\\n \\n \\n \\n{\\n \\nint weather = 0;\\n \\n \\nswitch(weather)\\n \\n{\\n \\ncase 0 :\\n \\nSystem.out.println(\"Sunny\");\\n 7\\n \\nbreak;\\n \\ncase 1 :\\n \\n \\nSystem.out.println(\"Rainy\");\\n \\nbreak;\\n \\ncase 2 :\\n \\n \\nSystem.out.println(\"Cold\");\\n \\nbreak;\\n \\ncase 3 :\\n \\n \\nSystem.out.println(\"Windy\");\\n \\nbreak;\\n \\ndefault :\\n \\n \\nSystem.out.println(\"Pleasant\");\\n \\n}\\n \\n }\\n \\n}\\n \\n \\nLOOPS IN JAVA\\n \\nLoops are used to iterate the code a specific number of times until the specified condition is\\n \\ntrue. There are three kinds of loop in Java :\\n \\n \\n \\nFor Loop\\n \\n \\nIterates the code for a specific number of times until\\n \\nthe condition is true.\\n \\nclass TestForLoop\\n \\n{\\n \\npublic static void main (String args[])\\n \\n{\\n \\nfor(int i=0;i<=5;i++)\\n \\nSystem.out.println(\"*\");\\n \\n}\\n \\n}\\n \\nWhile Loop\\n \\n \\nIf condition in the while is true the program enters the\\n \\nloop for iteration.\\n \\nclass TestWhileLoop\\n \\n{\\n \\npublic static void main (String args[])\\n \\n{\\n \\nint i = 1;\\n \\nwhile(i<=10)\\n \\n{\\n \\nSystem.out.println(i);\\n \\ni++;\\n \\n}\\n \\n}\\n \\n}\\n \\nDo While Loop\\n \\n \\n 8\\n \\nThe program enters the loop for iteration at least once\\n \\nirrespective of the while condition being true. For\\n \\nfurther iterations, it is depends on the while condition\\n \\nto be true.\\n \\nclass TestDoWhileLoop\\n \\n{\\n \\npublic static void main (String args[])\\n \\n{\\n \\nint i = 1;\\n \\ndo\\n \\n{\\n \\nSystem.out.println(i);\\n \\ni++;\\n \\n}while(i<=10);\\n \\n}\\n \\n}\\n \\n \\nJAVA OOPS CONCEPTS\\n \\nAn object-oriented paradigm offers the following concepts to simplify software development and\\n \\nmaintenance.\\n \\n \\n \\n1. Object and Class\\n \\n \\nObjects are basic runtime entities in an object-oriented system, which contain data and code to\\n \\nmanipulate data. This entire set of data and code can be made into user-defined data type using\\n \\nthe concept of class. Hence, a class is a collection of objects of a similar data type.\\n \\nExample: apple, mango, and orange are members of class fruit.\\n \\n \\n \\n2. Data Abstraction and Encapsulation\\n \\n \\n \\nThe wrapping or enclosing up  of data and methods into a single unit is known as encapsulation.\\n \\nTake medicinal capsule as an example, we don’t know what chemical it contains, we are only\\n \\nconcerned with its effect.\\n \\n \\nThis insulation of data from direct access by the program is called data hiding. For instance,\\n \\nwhile using apps people are concerned about its functionality and not the code behind it.\\n \\n \\n \\n3.Inheritance\\n \\n \\nInheritance provides the concept of reusability, it is the process by which objects of one class\\n \\n(Child class or Subclass) inherit or derive properties of objects of another class (Parent class).\\n \\n \\n \\n \\n \\n \\nTypes of Inheritance in Java:\\n \\n \\nSingle Inheritance\\n 9\\n \\nThe child class inherits properties and behavior from a single parent class.\\n \\nMultilevel Inheritance\\n \\nThe child class inherits properties from its parent class, which in turn is a child class to another parent class\\n \\nMultiple Inheritance\\n \\nWhen a child class has two parent classes. In Java, this concept is achieved by using interfaces.\\n \\nHierarchical Inheritance\\n \\nWhen a parent class has two child classes inheriting its properties.\\n \\n \\n \\nclass A\\n \\n \\n{\\n \\nint i, j;\\n \\nvoid showij() {\\n \\nSystem.out.println(\"i and j: \" + i + \" \" + j);\\n \\n}\\n \\n}\\n \\n// Create a subclass by extending class A.\\n \\nclass B extends A {\\n \\nint k;\\n \\nvoid showk() {\\n \\nSystem.out.println(\"k: \" + k);\\n \\n}\\n \\nvoid sum() {\\n \\nSystem.out.println(\"i+j+k: \" + (i+j+k));\\n \\n}\\n \\n}\\n \\n \\nclass SimpleInheritance {\\n \\npublic static void main(String args[]) {\\n \\nA objA = new A();\\n \\nB objB = new B();\\n \\n// The superclass may be used by itself.\\n \\nobjA.i = 10;\\n \\nobjA.j = 20;\\n \\nSystem.out.println(\"Contents of objA: \");\\n \\nobjA.showij();\\n \\nSystem.out.println();\\n \\n/* The subclass can access to all public members of\\n \\nits superclass. */\\n \\nobjB.i = 7;\\n \\nobjB.j = 8;\\n \\nobjB.k = 9;\\n 10\\n \\nSystem.out.println(\"Contents of objB: \");\\n \\nobjB.showij();\\n \\nobjB.showk();\\n \\nSystem.out.println();\\n \\nSystem.out.println(\"Sum of i, j and k in objB:\");\\n \\nobjB.sum();\\n \\n}\\n \\n}\\n \\n \\n \\nSome limitations in Inheritance :\\n \\n●\\nPrivate members of the superclass cannot be derived by the subclass.\\n \\n●\\nConstructors cannot be inherited by the subclass.\\n \\n●\\nThere can be one superclass to a subclass.\\n \\n \\n4. Polymorphism\\n \\n \\n \\nDefined as the ability to take more than one form. Polymorphism allows creating clean and\\n \\nreadable code.\\n \\n \\nIn Java Polymorphism is achieved by the concept of method overloading and method\\n \\noverriding, which is the dynamic approach.\\n \\n \\n \\n●\\nMethod Overriding\\n \\n \\n \\nIn a class hierarchy, when a method in a child class has the same name and type signature as a\\n \\nmethod in its parent class, then the method in the child class is said to override the method in\\n \\nthe parent class.\\n \\n \\nIn the code below, if we don’t override the method the output would be 4  as calculated in\\n \\nParentMath class, otherwise, it would be 16.\\n \\n \\n \\nclass ParentMath\\n \\n{\\n \\nvoid area()\\n \\n{\\n \\nint a =2;\\n \\nSystem.out.printf(\"Area of Square with side 2 = %d %n\", a * a);\\n \\nSystem.out.println();\\n \\n}\\n \\n}\\n \\n \\nclass ChildMath extends ParentMath\\n \\n{\\n 11\\n \\nvoid area()\\n \\n{\\n \\nint a =4;\\n \\nSystem.out.printf(\"Area of Square with side 4= %d %n\", a * a);\\n \\n}\\n \\n \\npublic static void main (String args[])\\n \\n{\\n \\nChildMath obj = new ChildMath();\\n \\nobj.area();\\n \\n}\\n \\n}\\n \\n \\n●\\n Method Overloading\\n \\n \\n \\nJava programming can have two or more methods in the same class sharing the same name,\\n \\nas long as their arguments declarations are different. Such methods are referred to as\\n \\noverloaded, and the process is called method overloading.\\n \\n \\n \\nThree ways to overload a method :\\n \\n \\n1. Number of parameters\\n \\n \\nexample:\\n add(int, int)\\n \\n \\nadd(int, int, int)\\n \\n \\n2. Data type of parameters\\n \\nexample\\nadd(int, int)\\n \\nadd(int, float)\\n \\n \\n3.Sequence of data type of parameters\\n \\nexample\\n \\nadd(int, float)\\n \\nadd(float, int)\\n \\n \\nProgram to explain multilevel inheritance and method overloading :\\n \\n \\nclass Shape\\n \\n \\n {\\n \\n \\n     void area()\\n \\n     {\\n \\n        System.out.println(\"Area of the following shapes are : \");\\n \\n     }\\n \\n }\\n \\n \\n \\n 12\\n \\n class Square extends Shape\\n \\n \\n {\\n \\n \\n \\n \\n      void area(int length)\\n \\n \\n      {\\n \\n \\n           //calculate area of square\\n \\n \\n           int area = length * length;\\n \\n \\n           System.out.println(\"Area of square : \"+area);\\n \\n \\n      }\\n \\n \\n }\\n \\n \\n \\n \\n class Rectangle extends Shape\\n \\n \\n {\\n \\n \\n       //define a breadth\\n \\n \\n \\n \\n      void area(int length,int breadth)\\n \\n \\n      {\\n \\n \\n            //calculate area of rectangle\\n \\n \\n           int area = length * breadth;\\n \\n \\n           System.out.println(\"Area of rectangle : \" + area);\\n \\n \\n      }\\n \\n \\n }\\n \\n \\n \\n \\n class Circle extends Shape\\n \\n \\n {\\n \\n \\n      void area(int breadth)\\n \\n \\n      {\\n \\n \\n           //calculate area of circle using length of the shape class as radius\\n \\n \\n           float area = 3.14f * breadth * breadth;\\n \\n \\n           System.out.println(\"Area of circle : \" + area);\\n \\n \\n      }\\n \\n \\n }\\n \\n \\n \\n class InheritanceOverload\\n \\n {\\n \\n \\n      public static void main(String[] args)\\n \\n \\n      {\\n \\n \\n            int length = 5;\\n \\n            int breadth = 7;\\n \\n \\n            Shape s = new Shape();\\n \\n           //object of child class square\\n \\n \\n           Square sq = new Square();\\n \\n \\n           //object of child class rectangle\\n \\n 13\\n \\n           Rectangle rec = new Rectangle();\\n \\n \\n           //object of child class circle\\n \\n \\n           Circle cir = new Circle();\\n \\n \\n \\n \\n           //calling the area methods of all child classes to get the area of different objects\\n \\n \\n           s.area();\\n \\n           sq.area(length);\\n \\n \\n           rec.area(length,breadth);\\n \\n \\n           cir.area(length);\\n \\n \\n      }\\n \\n \\n }\\n \\n \\n \\nABSTRACT CLASS\\n \\n \\nSuperclass that only defines a generalized form that will be shared by all of its subclasses,\\n \\nleaving it to each subclass to implement its methods.\\n \\n \\n \\nabstract class A {\\n \\nabstract void callme();\\n \\n// concrete methods are still allowed in abstract classes\\n \\nvoid callmetoo() {\\n \\nSystem.out.println(\"This is a concrete method.\");\\n \\n}\\n \\n}\\n \\nclass B extends A {\\n \\nvoid callme() {\\n \\nSystem.out.println(\"B\\'s implementation of callme.\");\\n \\n}\\n \\n}\\n \\n \\nclass Abstract {\\n \\npublic static void main(String args[]) {\\n \\nB b = new B();\\n \\nb.callme();\\n \\nb.callmetoo();\\n \\n}\\n \\n}\\n \\nINTERFACES\\n 14\\n \\nA class’s interface can be full abstracted from its implementation using the “interface” keyword.\\n \\nThey are similar to class except that they lack instance variables and their methods are\\n \\ndeclared without any body.\\n \\n \\n \\n●\\nSeveral classes can implement an interface.\\n \\n●\\nInterfaces are used to implement multiple inheritances.\\n \\n●\\nVariables are public, final and static.\\n \\n●\\nTo implement an interface, a class must create a complete set of methods as defined by\\n \\nan interface.\\n \\n \\n●\\nClasses implementing interfaces can define methods of their own.\\n \\n \\ninterface Area\\n \\n{\\n \\nfinal static float pi = 3.14F;\\n \\nfloat compute(float x , float y);\\n \\n}\\n \\n \\nclass Rectangle implements Area\\n \\n \\n{\\n \\npublic float compute (float x, float y)\\n \\n{\\n \\nreturn (x*y);\\n \\n}\\n \\n}\\n \\n \\nclass Circle implements Area\\n \\n{\\n \\npublic float compute (float x, float y)\\n \\n{\\n \\nreturn (pi * x * x);\\n \\n}\\n \\n}\\n \\n \\nclass InterfaceTest\\n \\n{\\n \\npublic static void main (String args[])\\n \\n{\\n \\nfloat x = 2.0F;\\n \\nfloat y = 6.0F;\\n \\nRectangle rect = new Rectangle();\\n//creating object\\n \\nCircle cir = new Circle();\\n \\n \\nfloat result1 = rect.compute(x,y);\\n 15\\n \\nSystem.out.println(\"Area of Rectangle = \"+ result1);\\n \\n \\nfloat result2 = cir.compute(x,y);\\n \\nSystem.out.println(\"Area of Circle = \"+ result2);\\n \\n}\\n \\n}\\n \\nCONSTRUCTORS IN JAVA\\n \\n●\\nA constructor initializes an object on creation.\\n \\n●\\nThey have the same name as the class.\\n \\n●\\nThey do not have any return type, not even void.\\n \\n●\\nConstructor cannot be static, abstract or final.\\n \\n●\\nConstructors can be :\\n \\n●\\nNon - Parameterized or Default Constructor: Invoked automatically even if not declared\\n \\n \\nclass Box {\\n \\ndouble width;\\n \\ndouble height;\\n \\ndouble depth;\\n \\n// This is the constructor for Box.\\n \\nBox() {\\n \\nSystem.out.println(\"Constructing Box\");\\n \\nwidth = 10;\\n \\nheight = 10;\\n \\ndepth = 10;\\n \\n}\\n \\n// compute and return volume\\n \\ndouble volume() {\\n \\nreturn width * height * depth;\\n \\n}\\n \\n}\\n \\n \\nclass BoxVol {\\n \\npublic static void main(String args[]) {\\n \\n// declare, allocate, and initialize Box objects\\n \\nBox mybox1 = new Box();\\n \\nBox mybox2 = new Box();\\n \\ndouble vol;\\n \\n \\nvol = mybox1.volume();\\n \\nSystem.out.println(\"Volume is \" + vol);\\n \\n 16\\n \\nvol = mybox2.volume();\\n \\nSystem.out.println(\"Volume is \" + vol);\\n \\n}\\n \\n}\\n \\n \\n \\n \\nParameterized :\\n \\n \\nUsed to initialize the fields of the class with predefined values from the user.\\n \\n \\nclass Box {\\n \\ndouble width;\\n \\ndouble height;\\n \\ndouble depth;\\n \\nBox(double w, double h, double d) {\\n \\nwidth = w;\\n \\nheight = h;\\n \\ndepth = d;\\n \\n}\\n \\n \\ndouble volume() {\\n \\nreturn width * height * depth;\\n \\n}\\n \\n}\\n \\nclass BoxVolP {\\n \\npublic static void main(String args[]) {\\n \\n \\nBox mybox1 = new Box(10, 20, 15);\\n \\nBox mybox2 = new Box(3, 6, 9);\\n \\ndouble vol;\\n \\n \\nvol = mybox1.volume();\\n \\nSystem.out.println(\"Volume is \" + vol);\\n \\n \\nvol = mybox2.volume();\\n \\nSystem.out.println(\"Volume is \" + vol);\\n \\n}\\n \\n}\\n \\n \\nARRAYS IN JAVA\\n \\n 17\\n \\nArray is a group of like-type variables that are referred by a common name, having continuous\\n \\nmemory. Primitive values or objects can be stored in an array. It provides code optimization\\n \\nsince we can sort data efficiently and also access it randomly. The only flaw is that we can have\\n \\na fixed-size elements in an array.\\n \\n \\n \\nThere are two kinds of arrays defined in Java:\\n \\n \\n1. Single Dimensional: Elements are stored in a single row\\n \\n \\nimport java.util.Scanner;\\n \\n \\nclass SingleArray\\n \\n{\\n \\npublic static void main(String args[])\\n \\n{\\n \\nint len = 0;\\n \\n \\n//declaration\\n \\nint [] numbers = {3,44,12,53,6,87};\\n \\nScanner s = new Scanner(System.in);\\n \\n \\nSystem.out.println(\"The elements in the array are: \");\\n \\nfor(int i=0;i<numbers.length;i++)\\n \\n{\\n \\nSystem.out.print(numbers[i] + \" \");\\n \\n}\\n \\nSystem.out.println();\\n \\n \\nSystem.out.println(\"The sum of elements in the array are: \");\\n \\nint sum =0;\\n \\nfor(int i=0;i<numbers.length;i++)\\n \\n \\n{\\n \\nsum = sum + numbers[i];\\n \\n}\\n \\nSystem.out.println(\"Sum of elements = \" + sum);\\n \\n}\\n \\n}\\n \\n \\n \\n2. Multi-Dimensional: Elements are stored as row and column\\n \\n \\nclass MatrixArray\\n \\n 18\\n \\n{\\n \\npublic static void main(String args[])\\n \\n{\\n \\nint [][] m1 = { {1,5,7}, {2,4,6}};\\n \\nint [][] m2 = {{1,2,1},{4,4,3}};\\n \\nint [][] sum = new int [3][3];\\n \\n \\n//printing matrix\\n \\n \\n \\nSystem.out.println(\"The given matrix is : \");\\n \\n for(int a=0;a<=m1.length;a++)\\n \\n {\\n \\n \\nfor(int b=0;b<=m2.length;b++)\\n \\n \\n{\\n \\n \\nSystem.out.print(m1[a][b] + \" \");\\n \\n \\n}\\n \\n \\n \\nSystem.out.println();\\n \\n }\\n \\n \\n //matrix addition\\n \\n \\n System.out.println(\"The sum of given 2 matrices is : \");\\n 19\\n \\n for(int a=0;a<=m1.length;a++)\\n \\n {\\n \\n \\nfor(int b=0;b<=m2.length;b++)\\n \\n \\n{\\n \\n \\nsum[a][b] = m1[a][b] + m2[a][b];\\n \\n \\nSystem.out.print(sum[a][b] + \" \");\\n \\n \\n}\\n \\n \\nSystem.out.println();\\n \\n }\\n \\n}\\n \\n}\\n \\nSTRINGS IN JAVA\\n \\n \\n●\\nStrings are non-primitive data type that represents a sequence of characters.\\n \\n \\n●\\nString type is used to declare string variables.\\n \\n●\\nArray of strings can also be declared.\\n \\n●\\nJava strings are immutable, we cannot change them.\\n \\n \\n●\\nWhenever a string variable is created, a new instance is created.\\n \\n \\n \\n \\nCreating String\\n \\n \\n \\nUsing Literal\\n \\nUsing new keyword\\n \\nString name = “John” ;\\n \\n \\nString s = new String();\\n \\n \\n \\nString Methods\\n \\n \\n \\nThe String class which implements CharSequence interface defines a number of methods for\\n \\nstring manipulation tasks. List of most commonly used string methods are mentioned below:\\n \\n 20\\n \\n \\nMethod\\n \\nTask Performed\\n \\ntoLowerCase()\\n \\nconverts the string to lower case\\n \\ntoUpperCase()\\n \\nconverts the string to upper case\\n \\nreplace(‘x’ , ‘y’)\\n \\nreplaces all appearances of ‘x’ with ‘y’\\n \\ntrim()\\n \\nremoves the whitespaces at the beginning and at the end\\n \\nequals()\\n \\nreturns ‘true’ if strings are equal\\n \\nequalsIgnoreCase()\\n \\nreturns ‘true’ if strings are equal, irrespective of  case of\\n \\ncharacters\\n \\nlength()\\n \\nreturns the length of string\\n \\nCharAt(n)\\n \\ngives the nth character of string\\n \\ncompareTo()\\n \\nreturns     negative                   if string 1 < string 2\\n \\n                 positive                    if string 1 > string 2\\n \\n                 zero                         if string 1 = string 2\\n \\nconcat()\\n \\nconcatenates two strings\\n \\nsubstring(n)\\n \\nreturns substring returning from character n\\n \\nsubstring(n,m)\\n \\nreturns a substring between n'),\n",
       " Document(page_content=' below:\\n \\n 20\\n \\n \\nMethod\\n \\nTask Performed\\n \\ntoLowerCase()\\n \\nconverts the string to lower case\\n \\ntoUpperCase()\\n \\nconverts the string to upper case\\n \\nreplace(‘x’ , ‘y’)\\n \\nreplaces all appearances of ‘x’ with ‘y’\\n \\ntrim()\\n \\nremoves the whitespaces at the beginning and at the end\\n \\nequals()\\n \\nreturns ‘true’ if strings are equal\\n \\nequalsIgnoreCase()\\n \\nreturns ‘true’ if strings are equal, irrespective of  case of\\n \\ncharacters\\n \\nlength()\\n \\nreturns the length of string\\n \\nCharAt(n)\\n \\ngives the nth character of string\\n \\ncompareTo()\\n \\nreturns     negative                   if string 1 < string 2\\n \\n                 positive                    if string 1 > string 2\\n \\n                 zero                         if string 1 = string 2\\n \\nconcat()\\n \\nconcatenates two strings\\n \\nsubstring(n)\\n \\nreturns substring returning from character n\\n \\nsubstring(n,m)\\n \\nreturns a substring between n and ma character.\\n \\ntoString()\\n \\ncreates the string representation of object\\n \\n \\nindexOf(‘x’)\\n \\nreturns the position of first occurrence of x in the string.\\n \\nindexOf(‘x’,n)\\n \\nreturns the position of after nth position in string\\n \\nValueOf (Variable)\\n \\nconverts the parameter value to string representation\\n \\n \\n \\nProgram to show Sorting of Strings:\\n \\n \\n \\nclass SortStrings {\\n \\nstatic String arr[] = {\\n \\n\"Now\", \"the\", \"is\", \"time\", \"for\", \"all\", \"good\", \"men\",\\n \\n\"to\", \"come\", \"to\", \"the\", \"aid\", \"of\", \"their\", \"county\"\\n \\n};\\n \\npublic static void main(String args[])\\n \\n \\n{\\n \\nfor(int j = 0; j < arr.length; j++)\\n \\n \\n{\\n \\nfor(int i = j + 1; i < arr.length; i++)\\n \\n \\n{\\n \\nif(arr[i].compareTo(arr[j]) < 0)\\n \\n{\\n \\nString t = arr[j];\\n \\narr[j] = arr[i];\\n 21\\n \\narr[i] = t;\\n \\n}\\n \\n}\\n \\nSystem.out.println(arr[j]);\\n \\n}\\n}\\n \\n}\\n \\n \\n \\nString Buffer and String Builder\\n \\n \\n \\n●\\nFor mutable strings, we can use StringBuilder and StringBuffer classes which as well\\n \\nimplement CharSequence interface.\\n \\n●\\nThese classes represent growable and writable character interface.\\n \\n●\\nThey automatically grow to make room for additions , and often has more characters\\n \\npreallocated than are actually needed, to allow room for growth.\\n \\n \\nDifference between length() and capacity()\\n \\n \\n \\nlength()  :  To find the length of StringBuffer\\n \\ncapacity() :  To find the total allocated capacity\\n \\n \\n/* StringBuffer length vs. capacity */\\n \\nclass StringBufferTest {\\n \\npublic static void main(String args[]) {\\n \\nStringBuffer sb = new StringBuffer(\"Hello\");\\n \\nSystem.out.println(\"buffer = \" + sb);\\n \\nSystem.out.println(\"length = \" + sb.length());\\n \\nSystem.out.println(\"capacity = \" + sb.capacity());\\n \\n}\\n \\n}\\n \\nStringBuilder versus StringBuffer\\n \\nString Builder\\n \\nString Buffer\\n \\nNon-Synchronized : hence efficient.\\n \\nSynchronized\\n \\nThreads are used, multithreading.\\n \\n \\nThread Safe\\n \\n \\nMULTITHREADING\\n \\n \\nMultitasking: \\n\\u200b\\nProcess of executing multiple tasks simultaneously, to utilize the CPU.\\n \\n \\n \\nThis can be achieved in two-ways:\\n 22\\n \\n●\\nProcess-based multitasking.(Multitasking)\\n \\n●\\nThread-based multitasking (Multithreading)\\n \\n \\nMultitasking versus Multithreading\\n \\n \\n \\nMultitasking\\n \\nMultithreading\\n \\n \\nOS concept in which multiple tasks are performed\\n \\nsimultaneously.\\n \\nConcept of dividing a process into two or more\\n \\nsubprocess or threads that are executed at the\\n \\nsame time in parallel.\\n \\nMultiple programs can be executed\\n \\nsimultaneously.\\n \\nSupports the  execution of multiple parts of a\\n \\nsingle program simultaneously.\\n \\n \\nProcess has to switch between different programs\\n \\nor processes.\\n \\nProcessor needs  to switch between different\\n \\nparts or threads of the program.\\n \\nless efficient\\n \\nhighly efficient\\n \\nprogram or process in the smallest unit in the\\n \\nenvironment\\n \\nthread is the smallest unit\\n \\ncost effective\\n \\nexpensive\\n \\n \\n \\n \\n \\nLife Cycle Of Thread\\n \\n \\nA thread is always in one of the following five states, it can move from state to another by a\\n \\nvariety of ways as shown.\\n \\n \\nNew thread:\\n\\u200b\\n Thread object is created. Either it can be scheduled for running using start()\\n \\nmethod.\\n \\nRunnable thread :\\n\\u200b\\n Thread is ready for execution and waiting for processor.\\n \\nRunning thread: \\n\\u200b\\nIt has got the processor for execution.\\n \\nBlocked thread: \\n\\u200b\\n Thread is prevented from entering into runnable state.\\n \\nDead state:  \\n\\u200b\\nRunning thread ends its life when it has completed executing its run() method.\\n \\n \\n 23\\n \\n \\n \\n \\nCreating Thread\\n \\n \\n \\nExtending Thread class\\n \\nImplementing Runnable interface\\n \\n \\nCommon Methods Of Thread Class\\n \\n \\nMethod\\n \\nTask Performed\\n \\npublic void run()\\n \\nInherited by class MyThread\\n \\nIt is called when thread is started, thus all the action takes place in\\n \\nrun()\\n \\npublic void start()\\n \\nCauses the thread to move to runnable state.\\n \\npublic void sleep(long\\n \\nmilliseconds)\\n \\nBlocks or suspends a thread temporarily for entering into\\n \\nrunnable and subsequently in running state for specified\\n \\nmilliseconds.\\n \\npublic void yield\\n \\nTemporarily pauses currently executing thread object and allows\\n \\nother threads to be executed.\\n \\npublic void suspend()\\n \\nto suspend the thread, used with resume() method.\\n \\npublic void resume()\\n \\nto resume the suspended thread\\n \\npublic void stop()\\n \\nto cause premature death of thread, thus moving it to dead state.\\n \\n \\n \\nProgram to create threads using thread class.\\n 24\\n \\n \\nclass A extends Thread\\n \\n{\\n \\npublic void run()\\n \\n \\n{\\n \\nfor(int i=1;i<=5;i++)\\n \\n{\\n \\nSystem.out.println(\"From thread A : i \" + i);\\n \\n}\\n \\nSystem.out.println(\"Exit from A \");\\n \\n}\\n \\n}\\n \\n \\nclass B extends Thread\\n \\n \\n{\\n \\npublic void run()\\n \\n \\n{\\n \\nfor(int i=0;i<=5;i++)\\n \\n{\\n \\nSystem.out.println(\"From thread B : i \" + i);\\n \\n}\\n \\nSystem.out.println(\"Exit from B \");\\n \\n}\\n \\n}\\n \\n \\nclass C extends Thread\\n \\n \\n{\\n \\npublic void run ()\\n \\n{\\n \\nfor(int k=1;k<=5;k++)\\n \\n{\\n \\nSystem.out.println(\"From thread C : k \" + k);\\n \\n}\\n \\nSystem.out.println(\"Exit from C \");\\n \\n}\\n \\n}\\n \\n \\nclass ThreadTest\\n \\n{\\n \\npublic static void main(String args[])\\n \\n{\\n 25\\n \\nnew A().start();\\n \\nnew B().start();\\n \\nnew C().start();\\n \\n}\\n \\n}\\n \\n \\nImplementing Runnable Interface\\n \\n \\nThe run( ) method that is declared in the Runnable interface which is required for implementing\\n \\nthreads in our programs.\\n \\n \\nProcess consists of following steps :\\n \\n \\n●\\nClass declaration implementing the Runnable interface\\n \\n●\\nImplementing the run() method\\n \\n●\\nCreating a thread by defining an object that is instantiated from this “runnable” class as\\n \\nthe target of the thread.\\n \\n●\\nCalling the thread’s start() method to run the thread.\\n \\n \\n \\n \\nUsing Runnable Interface\\n \\n \\nclass X implements Runnable\\n \\n \\n{\\n \\npublic void run()\\n \\n{\\n \\nfor(int i=0;i<=10;i++)\\n \\n{\\n \\nSystem.out.println(\"Thread X \" + i);\\n \\n}\\n \\nSystem.out.println(\"End of thread X \");\\n \\n}\\n \\n}\\n \\n \\nclass RunnableTest\\n \\n{\\n \\npublic static void main(String args[])\\n \\n{\\n \\nX runnable = new X ();\\n \\nThread threadX = new Thread(runnable);\\n \\nthreadX.start();\\n \\nSystem.out.println(\"End of main Thread\");\\n \\n}\\n \\n}\\n 26\\n \\n \\nThread Class Versus Runnable Interface\\n \\n \\nThread Class\\n \\nRunnable Interface\\n \\nDerived class extending Thread class itself is a\\n \\nthread object and hence, gains full control over\\n \\nthe thread life cycle.\\n \\nRunnable Interface simply defines the unit of work\\n \\nthat will be executed in a thread, so it doesn’t\\n \\nprovide any control over thread life cycle.\\n \\nThe derived class cannot extend other base\\n \\nclasses\\n \\nAllows to extend base classes if necessary\\n \\nUsed when program needs control over thread life\\n \\ncycle\\n \\nUsed when program needs flexibility of extending\\n \\nclasses.\\n \\n \\nEXCEPTION HANDLING\\n \\n \\nException is an abnormality or error condition that is caused by a run-time error in the program,\\n \\nif this exception object thrown by error condition is not caught and handled properly, the\\n \\ninterpreter will display an error message. If we want to avoid this and want the program to\\n \\ncontinue then we should try to catch the exceptions.This task is known as exception handling.\\n \\n \\n \\nCommon Java Exceptions\\n \\n \\n \\nException Type\\n \\nCause of Exception\\n \\nArithmeticException\\n \\ncaused by math errors\\n \\nArrayIndexOutOfBoundException\\n \\ncaused by bad array indexes\\n \\nArrayStoreException\\n \\ncaused when a program tries to store wrong data type in an\\n \\narray\\n \\nFileNotFoundException\\n \\ncaused by attempt to access a nonexistent file\\n \\nIOException\\n \\ncaused by general I/O failures.\\n \\nNullPointerException\\n \\ncaused by referencing a null object.\\n \\nNumberFormatException\\n \\ncaused when a conversion between strings and number fails.\\n \\nOutOfMemoryException\\n \\ncaused when there is not enough memory to allocate\\n \\nStringIndexOutOfBoundException\\n \\ncaused when a program attempts to access a non-existent\\n \\ncharacter position in a string.\\n \\n \\n \\nExceptions in java can be of two types:\\n \\n \\nChecked  Exceptions :\\n \\n \\n●\\nHandled explicitly in the code itself with the help of try catch block.\\n \\n●\\nExtended from java.lang.Exception class\\n \\nUnchecked Exceptions :\\n \\n 27\\n \\n●\\nNot essentially handled in the program code, instead JVM handles such exceptions.\\n \\n●\\nExtended from java.lang.RuntimeException class\\n \\n \\nTRY AND CATCH\\n \\n \\n \\nTry keyword is used to preface a block of code that is likely to cause an error condition and\\n \\n“throw” an exception. A catch block defined by the keyword catch “catches” the exception\\n \\n“thrown” by the try block and handles it appropriately.\\n \\n \\nA code can have more than one catch statement in the catch block, when exception in try block\\n \\nis generated, multiple catch statements are treated like cases in a switch statement.\\n \\n \\n \\nUsing Try and Catch for Exception Handling\\n \\n \\n \\nclass Error\\n \\n{\\n \\npublic static void main(String args[])\\n \\n{\\n \\nint a [] = {5,10};\\n \\nint b = 5;\\n \\n \\ntry\\n \\n{\\n \\nint x = a[2]/b-a[1];\\n \\n}\\n \\ncatch(ArithmeticException e)\\n \\n{\\n \\nSystem.out.println(\"Division by zero\");\\n \\n}\\n \\ncatch(ArrayIndexOutOfBoundsException e)\\n \\n{\\n \\nSystem.out.println(\"ArrayIndexError\");\\n \\n}\\n \\ncatch(ArrayStoreException e)\\n \\n{\\n \\nSystem.out.println(\"Wrong data type\");\\n \\n}\\n \\n \\nint y = a[1]/a[0];\\n \\nSystem.out.println(\"y = \" + y);\\n \\n}\\n \\n}\\n \\n 28\\n \\n \\nFINALLY\\n \\n \\nFinally statement: \\n\\u200b\\nused to handle exceptions that is not caught by any of the previous catch\\n \\nstatements. A finally block in guaranteed to execute, regardless of whether or not an exception\\n \\nis thrown.\\n \\n \\nWe can edit the above program and add the following finally block.\\n \\n \\nfinally\\n \\n{\\n \\nint y = a[1]/a[0];\\n \\nSystem.out.println(\"y = \" + y);\\n \\n}\\n \\n \\nTHROWING YOUR OWN EXCEPTION\\n \\n \\nOwn exceptions can be defined using throw keyword.\\n \\n \\n \\nthrow new Throwable subclass;\\n \\n \\n/* Throwing our own Exception */\\n \\n \\nimport java.lang.Exception;\\n \\nclass MyException extends Exception\\n \\n{\\n \\nMyException(String message)\\n \\n{\\n \\nsuper(message);\\n \\n}\\n \\n}\\n \\n \\nclass TestMyException\\n \\n{\\n \\npublic static void main(String args[])\\n \\n{\\n \\nint x = 5 , y = 1000;\\n \\ntry\\n \\n{\\n \\nfloat z = (float) x / (float) y ;\\n \\n \\nif(z < 0.01)\\n \\n{\\n \\nthrow new MyException(\"Number is too small\");\\n 29\\n \\n}\\n \\n}\\n \\ncatch (MyException e)\\n \\n{\\n \\nSystem.out.println(\"Caught my exception \");\\n \\nSystem.out.println(e.getMessage());\\n \\n}\\n \\nfinally\\n \\n \\n{\\n \\nSystem.out.println(\"I am always here\");\\n \\n}\\n \\n}\\n \\n}\\n \\nMANAGING FILES IN JAVA\\n \\n \\nStoring data in variables and arrays poses the following problems:\\n \\n \\n●\\nTemporary Storage:\\n\\u200b\\n The data is lost when variable goes out of scope or when program\\n \\nis terminates.\\n \\n●\\nLarge data:\\n\\u200b\\n It is difficult\\n \\n \\n \\nSuch problems can be solved by storing data on secondary devices using the concept of files.\\n \\n \\nCollection of related records stored in a particular area on the disk, termed as file. The files\\n \\nstore and manage data by the concept of file handling.\\n \\n \\nFiles processing includes:\\n \\n \\n●\\nCreating files\\n \\n \\n●\\nUpdating files\\n \\n \\n●\\nManipulation of data\\n \\n \\nJava provides many features in file management like :\\n \\n●\\nReading/writing of data can be done at the byte level or at character or fields depending\\n \\nupon the requirement.\\n \\n●\\nIt also provides capability read/write objects directly.\\n \\n \\nSTREAMS\\n \\n \\nJava uses concept of streams to represent ordered sequence of data, which is a path along\\n \\nwhich data flows. It has a source and a destination.\\n \\n \\nStreams are classified into two basic types :\\n \\n 30\\n \\n●\\nInput Stream: \\n\\u200b\\nwhich extracts i.e. reads data from source file and sends it to the\\n \\nprogram.\\n \\n●\\nOutput Stream:\\n\\u200b\\n which takes the data from the program and send i.e writes to the\\n \\ndestination.\\n \\n \\nSTREAM CLASSES\\n \\n \\nThey are contained in\\n\\u200b\\n \\n\\u200b\\njava.lang.io\\n\\u200b\\n package.\\n \\n \\nThey are categorized into two groups\\n \\n \\n1.\\n\\u200b\\n Byte Stream Classes:\\n\\u200b\\n provides support for handling I/O operation on bytes.\\n \\n2. \\n\\u200b\\nCharacter Stream Classes: \\n\\u200b\\nprovides support for managing I/O operations on\\n \\n \\ncharacters.\\n \\n \\nBYTE STREAM CLASSES\\n \\n \\n \\nDesigned to provide functionality for creating and manipulating streams and files for\\n \\nreading/writing bytes.\\n \\n \\nSince streams are unidirectional there are two kinds of byte stream classes :\\n \\n \\n●\\nInput Stream Classes\\n \\n \\n●\\nOutput Stream Classes\\n \\n \\nINPUT STREAM CLASSES\\n \\n \\n \\nThey are used to read 8-bit bytes include a super class known as InputStream. InputStream is\\n \\nan abstract class and defines the methods for input functions such as :\\n \\n \\n \\nMethod\\n \\nDescription\\n \\nread( )\\n \\nReads a byte from input stream\\n \\nread(byte b [ ])\\n \\nReads an array of bytes into b\\n \\nread(byte b [ ], int n, int m)\\n \\nReads m bytes into b starting from the nth byte of b\\n \\navailable( )\\n \\nTells number of bytes available in the input\\n \\n \\nskip(n)\\n \\nSkips over n bytes from the input stream\\n \\nreset ( )\\n \\nGoes back  to the beginning of the stream\\n \\nclose ( )\\n \\n \\nCloses the input stream\\n \\n \\n \\nOUTPUT STREAM CLASSES\\n 31\\n \\n \\nThese classes are derived from the base class OutputStream. OutputStream is an abstract\\n \\nclass and defines the methods for output functions such as :\\n \\n \\nMethod\\n \\nDescription\\n \\nwrite( )\\n \\nWrites a byte to the output stream\\n \\n \\nwrite(byte b[ ])\\n \\nWrites all the bytes in the array b to the output stream\\n \\nwrite(byte b[ ], int n, int m)\\n \\nWrites m bytes from array b starting from the nth byte\\n \\n \\nclose( )\\n \\nCloses the output stream\\n \\nflush( )\\n \\nFlushes the output stream\\n \\n \\n \\n \\nREADING/WRITING BYTES\\n \\n \\nTwo common subclasses used are FileInputStream and FileOutputStream that handle 8-bit\\n \\nbytes.\\n \\nFileOutputStream is used for writing bytes to a file as demonstrated below:\\n \\n \\n// Writing bytes to a file\\n \\n \\n \\nimport java.io.*;\\n \\n \\nclass WriteBytes\\n \\n{\\n \\npublic static void main(String args[])\\n \\n{\\n \\nbytes cities [] = {\\'C\\',\\'A\\',\\'L\\',\\'I\\',\\'F\\',\\'O\\',\\'R\\',\\'N\\',\\'I\\',\\'A\\', \\'\\\\n\\',\\n \\n\\'V\\',\\'E\\',\\'G\\',\\'A\\',\\'S\\',\\'\\\\n\\',\\'R\\',\\'E\\',\\'N\\',\\'O\\',\\'\\\\n\\'};\\n \\n \\n//Create output file stream\\n \\nFileOutputStream  outfile = null;\\n \\ntry\\n \\n{\\n \\n//connect the outfile stream to \"city.txt\"\\n \\noutfile = new FileOutputStream(\"city.txt\");\\n \\n//Write data to the stream\\n \\noutfile.write(cities);\\n \\noutfile.close();\\n \\n}\\n \\ncatch(IOException ioe)\\n \\n{\\n \\nSystem.out.println(ioe);\\n 32\\n \\nSystem.exit(-1);\\n \\n}\\n \\n}\\n \\n}\\n \\n \\nFileIntputStream is used for reading bytes from a file as demonstrated below:\\n \\n \\n//Reading bytes from a file\\n \\n \\n \\nimport java.io.*;\\n \\n \\nclass ReadBytes\\n \\n{\\n \\npublic static void main(String args[])\\n \\n{\\n \\n//Create an input file stream\\n \\nFileInputStream  infile = null;\\n \\nint b;\\n \\ntry\\n \\n{\\n \\n//connect the infile stream to required file\\n \\ninfile = new FileInputStream(args [ 0 ]);\\n \\n \\n//Read and display\\n \\nwhile( (b = infile.read ( ) ) !=-1)\\n \\n{\\n \\nSystem.out.print((char) b );\\n \\n}\\n \\ninfile.close();\\n \\n}\\n \\ncatch(IOException ioe)\\n \\n{\\n \\nSystem.out.println(ioe);\\n \\nSystem.exit(-1);\\n \\n}\\n \\n}\\n \\n}\\n \\n \\nCHARACTER STREAM CLASSES\\n \\n \\nTwo kinds of character stream classes :\\n \\n \\nReader Stream Classes\\n \\n 33\\n \\n \\n●\\nDesigned to read character from the files.\\n \\n \\n●\\nClass Reader is the base class for all other classes.\\n \\n●\\nThese classes are similar to input stream classes except their fundamental unit of\\n \\ninformation, while reader stream uses characters.\\n \\n \\nWriter Stream Classes\\n \\n \\n●\\nPerforms all output operations on files.\\n \\n \\n●\\nWrites characters\\n \\n \\n●\\nThe Writer class is an abstract class which is the base class, having methods identical to\\n \\nthose of OutputStream.\\n \\n \\nREADING/WRITING CHARACTERS\\n \\n \\nThe two subclasses of Reader and Writer classes for handling characters in files are FileReader\\n \\nand FileWriter.\\n \\n \\n \\n// Copying characters from one file to another\\n \\n \\nimport java.io.*;\\n \\n \\nclass CopyCharacters\\n \\n{\\n \\npublic static void main (String args[])\\n \\n{\\n \\n//Declare and create input and output files\\n \\nFile inFile = new File(\"input.dat\");\\n \\nFile outFile = new File(\"output.dat\");\\n \\nFileReader ins = null;\\n//creates file stream\\n \\nins\\n \\nFileWriter outs = null;\\n//creates file stream\\n \\nouts\\n \\n \\ntry\\n \\n{\\n \\nins = new FileReader(inFile);\\n//opens inFile\\n \\nouts = new FileWriter(outFile);\\n//opens outFile\\n \\n \\n//Read and write\\n \\n \\nint ch;\\n \\nwhile((ch = ins.read( ))!=-1)\\n \\n{\\n 34\\n \\nouts.write(ch);\\n \\n}\\n \\n}\\n \\ncatch(IOException e)\\n \\n{\\n \\nSystem.out.println(e);\\n \\nSystem.exit(-1);\\n \\n}\\n \\nfinally\\n \\n{\\n \\ntry\\n \\n{\\n \\nins.close();\\n \\nouts.close();\\n \\n}\\n \\ncatch (IOException e)\\n \\n{}\\n \\n}\\n \\n}\\n \\n}\\n \\n \\nJAVA COLLECTIONS\\n \\n \\nThe collections framework contained in the java.util package defines a set of interfaces and their\\n \\nimplementations to manipulate collections, which serve as a container for a group of objects.\\n \\n \\n \\nINTERFACES\\n \\n \\nCollection framework contains many interfaces such as Collection, Map and Iterator.\\n \\n \\nThe interfaces and their description are mentioned below:\\n \\n \\n \\nInterface\\n \\nDescription\\n \\nCollection\\n \\ncollection of elements\\n \\nList (extends Collection)\\n \\nsequence of elements\\n \\nQueue (extends Collection)\\n \\nspecial type of list\\n \\n \\nSet (extends Collection)\\n \\ncollection of unique elements\\n \\n \\nSortedSet (extends Set)\\n \\nsorted collection of unique elements\\n \\nMap\\n \\ncollection of key and value pairs, which must be unique\\n 35\\n \\nSortedMap (extends Map)\\n \\nsorted collection of key value pairs\\n \\n \\nIterator\\n \\n \\nobject used to traverse through a collection\\n \\nList (extends Iterator)\\n \\n \\nobject used to traverse through a sequence\\n \\n \\n \\nCLASSES\\n \\n \\n \\nThe classes available in the collection framework implement the collection interface and\\n \\nsub-interfaces. They also implement Map and Iterator interfaces.\\n \\n \\nClasses and their Corresponding interfaces are listed :\\n \\n \\nClass\\n \\nInterface\\n \\nAbstractCollection\\n \\nCollection\\n \\nAbstarctList\\n \\nList\\n \\nAbstract\\n \\nQueue\\n \\nAbstractSequentialList\\n \\nList\\n \\nLinkedList\\n \\nList\\n \\nArrayList\\n \\nList, Cloneable and Serializable\\n \\nAbstractSet\\n \\nSet\\n \\nEnumSet\\n \\nSet\\n \\nHashSet\\n \\nSet\\n \\nPriorityQueue\\n \\nQueue\\n \\nTreeSet\\n \\nSet\\n \\nVector\\n \\nList, Cloneable and Serializable\\n \\nStack\\n \\nList, Cloneable and Serializable\\n \\nHashtable\\n \\nMap, Cloneable and Serializable\\n \\n \\n \\nArray List Implementation\\n \\n \\n// Using the methods of array list class\\n \\n \\nimport java.util.*;\\n \\nclass Num\\n \\n{\\n \\npublic static void main(String args[])\\n \\n{\\n \\nArrayList num = new ArrayList ();\\n \\nnum.add(9);\\n 36\\n \\nnum.add(12);\\n \\nnum.add(10);\\n \\nnum.add(16);\\n \\nnum.add(6);\\n \\nnum.add(8);\\n \\nnum.add(56);\\n \\n \\n//printing array list\\n \\nSystem.out.println(\"Elements : \");\\n \\nnum.forEach((s) -> System.out.println(s));\\n \\n \\n//getting size\\n \\nSystem.out.println(\"Size of array list is: \");\\n \\nnum.size();\\n \\n \\n//retrieving specific element\\n \\nint n = (Integer) num.get(2);\\n \\nSystem.out.println(n);\\n \\n \\n//removing an element\\n \\nnum.remove(4);\\n \\n \\n//printing array list\\n \\nSystem.out.println(\"Elements : \");\\n \\nnum.forEach((s) -> System.out.println(s));\\n \\n}\\n \\n}\\n \\n \\n \\n \\nLinked List Implementation\\n \\n \\nimport java.util.Scanner;\\n \\nclass LinkedList\\n \\n{\\n \\npublic static void main (String args[])\\n \\n{\\n \\nScanner s = new Scanner(System.in);\\n \\nList list = new List();\\n \\nSystem.out.println(\"Enter the number of elements you want to enter in LL\\n \\n: \");\\n \\nint num_elements = s.nextInt();\\n 37\\n \\nint x;\\n \\nfor(int i =0;i<=num_elements;i++)\\n \\n{\\n \\nSystem.out.println(\"Enter element : \");\\n \\nx = s.nextInt();\\n \\nlist.insert(x);\\n \\n}\\n \\nSystem.out.println(\">>>>> LINKED LIST AFTER INSERTION IS  : \");\\n \\nlist.print();\\n \\nint size = list.count();\\n \\nSystem.out.println(\">>>>> SIZE OF LL => \"+size);\\n \\nSystem.out.println(\"Enter the node to be inserted in the middle: \");\\n \\nint mid_element = s.nextInt();\\n \\nlist.insertMiddle(mid_element);\\n \\nSystem.out.println(\">>>> LL AFTER INSERTING THE NEW ELEMENT\\n \\nIN THE MIDDLE \");\\n \\nlist.print();\\n \\n}\\n \\n}\\n \\n \\nHashSet Implementation\\n \\n \\n \\nimport java.util.*;\\n \\nclass HashSetExample\\n \\n{\\n \\npublic static void main(String args[])\\n \\n{\\n \\nHashSet hs = new HashSet();\\n \\nhs.add(\"D\");\\n \\nhs.add(\"W\");\\n \\nhs.add(\"G\");\\n \\nhs.add(\"L\");\\n \\nhs.add(\"Y\");\\n \\nSystem.out.println(\"The elements available in the hash set are :\" + hs);\\n \\n}\\n \\n}\\n \\n \\nTree Set Implementation\\n \\n \\nimport java.util.*;\\n \\nclass TreeSetExample\\n \\n{\\n \\npublic static void main(String args[])\\n 38\\n \\n{\\n \\nTreeSet ts = new TreeSet();\\n \\nts.add(\"D\");\\n \\nts.add(\"W\");\\n \\nts.add(\"G\");\\n \\nts.add(\"L\");\\n \\nts.add(\"Y\");\\n \\nSystem.out.println(\"The elements available in the hash set are :\" + ts);\\n \\n}\\n \\n}\\n \\n \\n \\nVector Class Implementation\\n \\n \\nimport java.util.*;\\n \\nclass VectorExample\\n \\n{\\n \\npublic static void main(String args[])\\n \\n{\\n \\nVector fruits = new Vector ();\\n \\n \\nfruits.add(\"Apple\");\\n \\nfruits.add(\"Orange\");\\n \\nfruits.add(\"Grapes\");\\n \\nfruits.add(\"Pineapple\");\\n \\nIterator it = fruits.iterator();\\n \\nwhile (it.hasNext())\\n \\n{\\n \\nSystem.out.println(it.next);\\n \\n}\\n \\n}\\n \\n}\\n \\n \\nStack Class Implementation\\n \\n \\nimport java.util.*;\\n \\n \\npublic class StackExample\\n \\n{\\n \\npublic static void main (String args[])\\n \\n{\\n \\nStack st = new Stack ();\\n \\nst.push(\"Java\");\\n \\nst.push(\"Classes\");\\n 39\\n \\nst.push(\"Objects\");\\n \\n'),\n",
       " Document(page_content='ts.add(\"D\");\\n \\nts.add(\"W\");\\n \\nts.add(\"G\");\\n \\nts.add(\"L\");\\n \\nts.add(\"Y\");\\n \\nSystem.out.println(\"The elements available in the hash set are :\" + ts);\\n \\n}\\n \\n}\\n \\n \\n \\nVector Class Implementation\\n \\n \\nimport java.util.*;\\n \\nclass VectorExample\\n \\n{\\n \\npublic static void main(String args[])\\n \\n{\\n \\nVector fruits = new Vector ();\\n \\n \\nfruits.add(\"Apple\");\\n \\nfruits.add(\"Orange\");\\n \\nfruits.add(\"Grapes\");\\n \\nfruits.add(\"Pineapple\");\\n \\nIterator it = fruits.iterator();\\n \\nwhile (it.hasNext())\\n \\n{\\n \\nSystem.out.println(it.next);\\n \\n}\\n \\n}\\n \\n}\\n \\n \\nStack Class Implementation\\n \\n \\nimport java.util.*;\\n \\n \\npublic class StackExample\\n \\n{\\n \\npublic static void main (String args[])\\n \\n{\\n \\nStack st = new Stack ();\\n \\nst.push(\"Java\");\\n \\nst.push(\"Classes\");\\n 39\\n \\nst.push(\"Objects\");\\n \\nst.push(\"Multithreading\");\\n \\nst.push(\"Programming\");\\n \\n \\nSystem.out.println(\"The elements in the Stack : \" + st);\\n \\nSystem.out.println(\"The elements at the top of Stack : \" + st.peek());\\n \\nSystem.out.println(\"The elements popped out of the Stack : \" + st.pop());\\n \\nSystem.out.println(\"The elements in the Stack after pop of the element : \"\\n \\n+ st);\\n \\nSystem.out.println(\"The result of search : \" + st.search (\"r e\"));\\n \\n}\\n \\n}\\n \\n \\nHashTable Class Implementation\\n \\n \\nimport java.util.*;\\n \\n \\npublic class HashTableExample\\n \\n{\\n \\npublic static void main (String args[])\\n \\n{\\n \\nHashtable ht = new Hashtable();\\n \\nht.put(\"Item 1\",\"Apple\");\\n \\nht.put(\"Item 2\",\"Orange\");\\n \\nht.put(\"Item 3\",\"Grapes\");\\n \\nht.put(\"Item 4\",\"Pine\");\\n \\nht.put(\"Item 5\",\"Kiwi\");\\n \\n \\nEnumeration e = ht.keys();\\n \\nwhile(e.hasMoreElements())\\n \\n{\\n \\nString str = (String) e.nextElement();\\n \\nSystem.out.println(ht.get(str));\\n \\n}\\n \\n}\\n \\n}\\n \\n \\nMEMORY MANAGEMENT  IN JAVA\\n \\nMemory is a collection of data represented in the binary format.\\n \\n \\n \\nMemory management is :\\n 40\\n \\n●\\nProcess of allocating new objects\\n \\n \\n●\\nProperly removing unused objects( garbage collection)\\n \\n \\n \\n \\n \\n \\n \\n \\n \\n \\n \\n \\nExample Illustrating Memory Management\\n \\n \\n \\n 41\\n \\n \\n \\n \\n1.\\nWhen a method is called , frame is created on the top of the stack.\\n \\n2.\\nOnce a method as completed execution, the flow of control returns to the calling method\\n \\nand its corresponding stack frame is flushed.\\n \\n3.\\nLocal variables are created in stack.\\n \\n4.\\nInstance variables are created in the heap and are part of the object they belong to.\\n \\n \\n5.\\nReference variable are created in stack.\\n \\n \\nSOME COMMON JAVA CODING QUESTIONS\\n \\n1.   Enter radius and print diameter, perimeter and area\\n \\n \\nimport java.util.Scanner;\\n \\n \\nclass Circle\\n \\n \\n{\\n \\npublic static void main (String args [])\\n \\n{\\n \\ndouble r,dia,peri,area ;\\n \\nSystem.out.println(\"Enter the radius of circle : \");\\n 42\\n \\nScanner s = new Scanner (System.in);\\n \\nr = s.nextDouble();\\n \\n \\ndia = 2*r;\\n \\n \\nperi = 2*Math.PI*r;\\n \\narea = Math.PI*r*r;\\n \\n \\nSystem.out.printf(\"The dia of circle is : %.2f \\\\n\", dia);\\n \\nSystem.out.printf(\"The peri of circle is : %.2f \\\\n\", peri);\\n \\nSystem.out.printf(\"The area of the circle is : %.2f \\\\n\", area);\\n \\n}\\n \\n}\\n \\n \\n2.  Print all the even numbers between x and y.\\n \\n \\nimport java.util.Scanner;\\n \\nclass EvenOdd\\n \\n \\n{\\n \\npublic static void main (String args[])\\n \\n{\\n \\nint x,y;\\n \\nScanner s = new Scanner (System.in);\\n \\nSystem.out.println(\"Enter the values x , y : \");\\n \\nx = s.nextInt();\\n \\ny = s.nextInt();\\n \\n \\nSystem.out.println(\" **** EVEN NUMBERS BETWEEN GIVEN RANGE\\n \\nARE **** >> \");\\n \\nint count = x;\\n \\nwhile(count <=y)\\n \\n{\\n \\nif(count % 2 == 0)\\n \\n{\\n \\nSystem.out.println(count);\\n \\n}\\n \\ncount ++;\\n \\n}\\n \\n}\\n \\n}\\n \\n \\n \\n3.  To check if given number is prime\\n \\n \\n 43\\n \\nimport java.util.Scanner;\\n \\n \\n \\nclass Prime\\n \\n{\\n \\npublic static void main (String args[])\\n \\n{\\n \\ndouble num;\\n \\nint n;\\n \\nboolean isPrime = true;\\n \\nScanner s = new Scanner(System.in);\\n \\n \\nSystem.out.println(\"Enter the number to check :\");\\n \\nnum=s.nextDouble();\\n \\n \\nn = (int) Math.sqrt(num);\\n \\n \\nfor(int i=2;i<=n;i++)\\n \\n{\\n \\nif(num % i == 0)\\n \\n{\\n \\nisPrime = false;\\n \\n}\\n \\nelse\\n \\n \\n{\\n \\nisPrime = true;\\n \\n}\\n \\n}\\n \\n \\nif(isPrime)\\n \\n{\\n \\nSystem.out.println(\"***** NUMBER IS PRIME !!!! ****** \");\\n \\n}\\n \\nelse\\n \\n{\\n \\nSystem.out.println(\"***** NUMBER IS NOT PRIME !!!! ****** \");\\n \\n \\n}\\n \\n}\\n \\n}\\n \\n \\n \\n \\n4. To check if the entered number is Palindrome\\n 44\\n \\n \\nimport java.util.Scanner;\\n \\n \\nclass Palindrome\\n \\n{\\n \\npublic static void main(String args[])\\n \\n{\\n \\nint num,reverse=0,mode;\\n \\nScanner s = new Scanner(System.in);\\n \\n \\nSystem.out.println(\"Enter a number to check for Palindrome: \");\\n \\nnum = s.nextInt();\\n \\n \\nint number = num;\\n \\nwhile(num!=0)\\n \\n{\\n \\n//System.out.println(\" number entering =  \"+num);\\n \\nmode = num % 10;\\n \\n//System.out.println(\" mode = \"+mode);\\n \\nreverse =(reverse * 10 )+ mode;\\n \\n//System.out.println(\" reverse = \"+reverse);\\n \\nnum = num/10;\\n \\n//System.out.println(\" new num = \"+num);\\n \\n}\\n \\n \\n//System.out.println(\" reverse out = \"+reverse);\\n \\n \\nif(reverse == number)\\n \\n{\\n \\nSystem.out.println(\" **** PALINDROME !!! **** \");\\n \\n}\\n \\nelse\\n \\n \\n{\\n \\nSystem.out.println(\" **** NOT A PALINDROME !!! **** \");\\n \\n}\\n \\n}\\n \\n}\\n \\n \\n \\n5. Pattern printing\\n \\n \\n \\n*\\n \\n* *\\n 45\\n \\n* * *\\n \\n* * * *\\n \\n \\n* * * * *\\n \\n \\nimport java.util.Scanner;\\n \\n \\nclass TriStars\\n \\n \\n{\\n \\npublic static void main(String args[])\\n \\n{\\n \\nfor(int i=0;i<=5;i++)\\n \\n{\\n \\nfor(int j=0;j<i;j++)\\n \\n{\\n \\nSystem.out.print(\" * \");\\n \\n}\\n \\nSystem.out.println();\\n \\n}\\n \\nSystem.out.println();\\n \\n}\\n \\n}\\n \\n \\n \\n ')]"
      ]
     },
     "execution_count": 15,
     "metadata": {},
     "output_type": "execute_result"
    }
   ],
   "source": [
    "document_ques_gen"
   ]
  },
  {
   "cell_type": "code",
   "execution_count": 16,
   "metadata": {},
   "outputs": [],
   "source": [
    "ans_gen_splitter = TokenTextSplitter(model_name= \"gpt-3.5-turbo\", chunk_size=1000, chunk_overlap=100)\n",
    "\n",
    "document_ans_gen = ans_gen_splitter.split_documents(document_ques_gen)"
   ]
  },
  {
   "cell_type": "code",
   "execution_count": 17,
   "metadata": {},
   "outputs": [
    {
     "data": {
      "text/plain": [
       "14"
      ]
     },
     "execution_count": 17,
     "metadata": {},
     "output_type": "execute_result"
    }
   ],
   "source": [
    "len(document_ans_gen)"
   ]
  },
  {
   "cell_type": "code",
   "execution_count": 18,
   "metadata": {},
   "outputs": [
    {
     "name": "stderr",
     "output_type": "stream",
     "text": [
      "d:\\GenAIProj\\MyProjs\\Interview-Question-Creator\\.venv\\lib\\site-packages\\langchain_core\\_api\\deprecation.py:119: LangChainDeprecationWarning: The class `ChatOpenAI` was deprecated in LangChain 0.0.10 and will be removed in 0.3.0. An updated version of the class exists in the langchain-openai package and should be used instead. To use it run `pip install -U langchain-openai` and import as `from langchain_openai import ChatOpenAI`.\n",
      "  warn_deprecated(\n"
     ]
    }
   ],
   "source": [
    "\"\"\" Initialize the LLM. Lower temperature - More authentic and less creative. Higher temperature - More creative\"\"\"\n",
    "\n",
    "\"\"\"The class `ChatOpenAI` was deprecated in LangChain 0.0.10 and will be removed in 0.3.0. \n",
    "An updated version of the class exists in the langchain-openai package and should be used instead\"\"\"\n",
    "#from langchain.chat_models import ChatOpenAI - Deprecated Now\n",
    "#from langchain_openai import ChatOpenAI\n",
    "from langchain.chat_models import ChatOpenAI\n",
    "\n",
    "llm_ques_gen_ppline = ChatOpenAI(model=\"gpt-3.5-turbo\", temperature=0.3)"
   ]
  },
  {
   "cell_type": "code",
   "execution_count": 19,
   "metadata": {},
   "outputs": [],
   "source": [
    "prompt_template = \"\"\"\n",
    "You are an expert at creating interview questions based on the study material and coding material given to you.\n",
    "Your goal is to prepare a coder or a programmer for their exams and coding tests.\n",
    "You do this by asking the questions about the text below:\n",
    "\n",
    "--------\n",
    "{text}\n",
    "--------\n",
    "\n",
    "Create a set of questions that will help the coders and programmers for their tests.\n",
    "Make sure not to lose any important information.\n",
    "\n",
    "QUESTIONS:\n",
    "\"\"\""
   ]
  },
  {
   "cell_type": "code",
   "execution_count": 20,
   "metadata": {},
   "outputs": [],
   "source": [
    "from langchain.prompts import PromptTemplate\n",
    "PROMPT_QUESTIONS = PromptTemplate(template=prompt_template, input_variables=['text'])"
   ]
  },
  {
   "cell_type": "code",
   "execution_count": 22,
   "metadata": {},
   "outputs": [],
   "source": [
    "refine_template = (\"\"\"\n",
    "You are an expert at creating interview questions based on the study material and coding material given to you.\n",
    "Your goal is to prepare a coder or a programmer for their exams and coding tests.\n",
    "We have received some questions meeting the expectations upto a certain extent: {existing_answers}.\n",
    "We have the option to refine the existing questions or add new ones.\n",
    "(only if necessary) with some more context below\n",
    "\n",
    "--------\n",
    "{text}\n",
    "--------\n",
    "\n",
    "Given the new context, refine the original questions in English.\n",
    "If the context is not helpful, please provide the original questions.\n",
    "\n",
    "QUESTIONS:\n",
    "\"\"\")"
   ]
  },
  {
   "cell_type": "code",
   "execution_count": 23,
   "metadata": {},
   "outputs": [],
   "source": [
    "REFINE_PROMPT_QUESTIONS = PromptTemplate(input_variables=[\"existing_answers\", \"text\"], template=refine_template)"
   ]
  },
  {
   "cell_type": "code",
   "execution_count": 100,
   "metadata": {},
   "outputs": [],
   "source": [
    "\"\"\"from langchain.chains.summarize import load_summarize_chain\n",
    "\n",
    "ques_gen_chain = load_summarize_chain( llm=llm_ques_gen_ppline,\n",
    "                                        chain_type=\"refine\", \n",
    "                                        verbose=True,\n",
    "                                        question_prompt=PROMPT_QUESTIONS,\n",
    "                                        refine_prompt=REFINE_PROMPT_QUESTIONS)\"\"\""
   ]
  },
  {
   "cell_type": "code",
   "execution_count": 25,
   "metadata": {},
   "outputs": [],
   "source": [
    "from langchain.chains import LLMChain\n",
    "from langchain.prompts import PromptTemplate"
   ]
  },
  {
   "cell_type": "code",
   "execution_count": 26,
   "metadata": {},
   "outputs": [],
   "source": [
    "# Create the prompt templates\n",
    "PROMPT_QUESTIONS = PromptTemplate(template=prompt_template, input_variables=['text'])\n",
    "REFINE_PROMPT_QUESTIONS = PromptTemplate(input_variables=[\"existing_answers\", \"text\"], template=refine_template)\n"
   ]
  },
  {
   "cell_type": "code",
   "execution_count": 29,
   "metadata": {},
   "outputs": [],
   "source": [
    "#ques = ques_gen_chain.run(document_ques_gen)\n",
    "\n",
    "# Create the LLMChain for generating questions\n",
    "ques_gen_chain = LLMChain(llm=llm_ques_gen_ppline, prompt=PROMPT_QUESTIONS)"
   ]
  },
  {
   "cell_type": "code",
   "execution_count": 30,
   "metadata": {},
   "outputs": [
    {
     "name": "stderr",
     "output_type": "stream",
     "text": [
      "d:\\GenAIProj\\MyProjs\\Interview-Question-Creator\\.venv\\lib\\site-packages\\langchain_core\\_api\\deprecation.py:119: LangChainDeprecationWarning: The method `Chain.run` was deprecated in langchain 0.1.0 and will be removed in 0.3.0. Use invoke instead.\n",
      "  warn_deprecated(\n"
     ]
    }
   ],
   "source": [
    "# Run the chain with the document_ques_gen as input\n",
    "ques = ques_gen_chain.run(document_ques_gen)"
   ]
  },
  {
   "cell_type": "code",
   "execution_count": 32,
   "metadata": {},
   "outputs": [
    {
     "name": "stdout",
     "output_type": "stream",
     "text": [
      "1. What are the key features of Java as mentioned in the document?\n",
      "2. Explain the concept of typecasting in Java with examples.\n",
      "3. List and explain the different types of operators in Java as mentioned in the document.\n",
      "4. Describe the process of executing Java code using an IDE and through the terminal as per the document.\n",
      "5. What are the different types of variables in Java and how are they defined?\n",
      "6. Explain the concept of inheritance in Java and provide examples of different types of inheritance.\n",
      "7. How does polymorphism work in Java? Provide examples of method overriding and method overloading.\n",
      "8. What is an abstract class in Java and how is it different from an interface?\n",
      "9. Describe the concept of exception handling in Java and provide examples of common Java exceptions.\n",
      "10. How does memory management work in Java? Explain the process of allocating and deallocating memory in Java.\n"
     ]
    }
   ],
   "source": [
    "print(ques)"
   ]
  },
  {
   "cell_type": "code",
   "execution_count": 37,
   "metadata": {},
   "outputs": [],
   "source": [
    "from langchain.embeddings.openai import OpenAIEmbeddings\n",
    "from langchain.vectorstores import FAISS"
   ]
  },
  {
   "cell_type": "code",
   "execution_count": 38,
   "metadata": {},
   "outputs": [],
   "source": [
    "embeddings = OpenAIEmbeddings()"
   ]
  },
  {
   "cell_type": "code",
   "execution_count": 39,
   "metadata": {},
   "outputs": [],
   "source": [
    "vector_store = FAISS.from_documents(document_ans_gen, embeddings)"
   ]
  },
  {
   "cell_type": "code",
   "execution_count": 40,
   "metadata": {},
   "outputs": [],
   "source": [
    "llm_ans_gen_ppline = ChatOpenAI(model=\"gpt-3.5-turbo\", temperature=0.3)"
   ]
  },
  {
   "cell_type": "code",
   "execution_count": 41,
   "metadata": {},
   "outputs": [
    {
     "data": {
      "text/plain": [
       "['1. What are the key features of Java as mentioned in the document?',\n",
       " '2. Explain the concept of typecasting in Java with examples.',\n",
       " '3. List and explain the different types of operators in Java as mentioned in the document.',\n",
       " '4. Describe the process of executing Java code using an IDE and through the terminal as per the document.',\n",
       " '5. What are the different types of variables in Java and how are they defined?',\n",
       " '6. Explain the concept of inheritance in Java and provide examples of different types of inheritance.',\n",
       " '7. How does polymorphism work in Java? Provide examples of method overriding and method overloading.',\n",
       " '8. What is an abstract class in Java and how is it different from an interface?',\n",
       " '9. Describe the concept of exception handling in Java and provide examples of common Java exceptions.',\n",
       " '10. How does memory management work in Java? Explain the process of allocating and deallocating memory in Java.']"
      ]
     },
     "execution_count": 41,
     "metadata": {},
     "output_type": "execute_result"
    }
   ],
   "source": [
    "ques_list = ques.split(\"\\n\")\n",
    "ques_list"
   ]
  },
  {
   "cell_type": "code",
   "execution_count": 42,
   "metadata": {},
   "outputs": [],
   "source": [
    "from langchain.chains import RetrievalQA"
   ]
  },
  {
   "cell_type": "code",
   "execution_count": 43,
   "metadata": {},
   "outputs": [],
   "source": [
    "ans_gen_chain = RetrievalQA.from_chain_type(llm=llm_ans_gen_ppline,\n",
    "                                                chain_type=\"stuff\",\n",
    "                                                retriever=vector_store.as_retriever())"
   ]
  },
  {
   "cell_type": "code",
   "execution_count": null,
   "metadata": {},
   "outputs": [],
   "source": [
    "for question in ques_list:\n",
    "    print(\"Question: \", question)\n",
    "    answer = ans_gen_chain.run(question)\n",
    "    print(\"Answer: \", answer)\n",
    "    print(\"------------------------------------------------\\n\")   \n",
    "    \n",
    "    #Saving Answers to the file \n",
    "    with open(\"answers.txt\", \"a\") as answers_file:\n",
    "        answers_file.write(\"Question: \" + question + \"\\n\")\n",
    "        answers_file.write(\"Answers: \" + answer + \"\\n\")\n",
    "        answers_file.write(\"------------------------------------------------\\n\")"
   ]
  }
 ],
 "metadata": {
  "kernelspec": {
   "display_name": ".venv",
   "language": "python",
   "name": "python3"
  },
  "language_info": {
   "codemirror_mode": {
    "name": "ipython",
    "version": 3
   },
   "file_extension": ".py",
   "mimetype": "text/x-python",
   "name": "python",
   "nbconvert_exporter": "python",
   "pygments_lexer": "ipython3",
   "version": "3.10.11"
  }
 },
 "nbformat": 4,
 "nbformat_minor": 2
}
